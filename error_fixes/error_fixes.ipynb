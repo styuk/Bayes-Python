{
 "cells": [
  {
   "cell_type": "markdown",
   "id": "da31b605-ed56-4425-9a50-aa8ac693da41",
   "metadata": {},
   "source": [
    "# エラーへの対処・修正済みコード"
   ]
  },
  {
   "cell_type": "markdown",
   "id": "1477264a-0018-40a6-854a-58e465bdc45f",
   "metadata": {},
   "source": [
    "『Statistical Rethinking A Bayesian Course with Examples in R and Stan 』は、  \n",
    "ベイズ統計学の基礎的な内容を実用例を交えて紹介している非常に優れた教科書です。\n",
    "\n",
    "教科書には分析で使用するRのコードが記載されていますが、  \n",
    "著者のRichard McElreath先生のwebサイト  \n",
    "\n",
    "https://xcelab.net/rm/statistical-rethinking/  \n",
    "\n",
    "で、 同じ内容を他の言語/パッケージで行うためのGitHubが紹介されています。  \n",
    "例えばpymcで再現したコードを公開しているリポジトリとして以下があります。  \n",
    "\n",
    "pymc (https://github.com/pymc-devs/pymc-resources/tree/main)  \n",
    "\n",
    "notebookの形式で教科書内のコードを(おそらくほぼ)すべて再現されています。  \n",
    "博愛に満ちた素晴らしい成果物なのですが、一部エラーが出るコードがあります。  \n",
    "\n",
    "このノートブックではエラーが出たコードの箇所を報告し、  修正できたところは修正済みのコードを記載しています。  "
   ]
  },
  {
   "cell_type": "markdown",
   "id": "735522f7-796e-4685-9ee1-ee768583eae0",
   "metadata": {},
   "source": [
    "## Chapter5 (Chp_05.ipynb)"
   ]
  },
  {
   "cell_type": "markdown",
   "id": "5146ea8f-56a8-4072-a4d0-bce11c1c2dcf",
   "metadata": {},
   "source": [
    "#### 5.33, 5.34"
   ]
  },
  {
   "cell_type": "markdown",
   "id": "9d0aaba5-b520-4f4a-b325-97822e7d8eba",
   "metadata": {},
   "source": [
    "元のjupyter notebookのコードでは以降のコードでエラーが生じます。  \n",
    "\n",
    "    shared_N = shared(dcc[\"N\"].values)\n",
    "    with pm.Model() as m5_5_draft:\n",
    "       sigma = pm.Exponential(\"sigma\", 1)\n",
    "       bN = pm.Normal(\"bN\", 0, 1)\n",
    "       a = pm.Normal(\"a\", 0, 1)\n",
    "       mu = pm.Deterministic(\"mu\", a + bN * shared_N)\n",
    "\n",
    "       K = pm.Normal(\"K\", mu, sigma, observed=dcc[\"K\"])\n",
    "\n",
    "       m5_5_draft_trace = pm.sample()\n",
    "\n",
    "    xseq = [-2, 2]\n",
    "    shared_N.set_value(np.array(xseq))\n",
    "    with m5_5_draft:\n",
    "       m5_5_draft_prior_predictive = pm.sample_prior_predictive()  \n",
    "       \n",
    "shared_NとKなどの形状が一致せずエラーが発生するようです。  \n",
    "元のRコードではパッケージの関数を使用しているためどのように処理しているかわりません。  \n",
    "よって以下ではxseqの形状に合わせてKの形状が変化するように修正しました。"
   ]
  },
  {
   "cell_type": "code",
   "execution_count": null,
   "id": "104010b8-925c-4373-afb5-7e6a9255c074",
   "metadata": {},
   "outputs": [],
   "source": [
    "xseq = np.array([-2, 2])\n",
    "shared_N.set_value(xseq)\n",
    "\n",
    "with pm.Model() as m5_5_draft:\n",
    "    sigma = pm.Exponential(\"sigma\", 1)\n",
    "    bN = pm.Normal(\"bN\", 0, 1)\n",
    "    a = pm.Normal(\"a\", 0, 1)\n",
    "    mu = pm.Deterministic(\"mu\", a + bN * shared_N)\n",
    "\n",
    "    # ここでobservedの部分を適切な形状に更新\n",
    "    observed_values = dcc[\"K\"].values[:len(xseq)] \n",
    "    K = pm.Normal(\"K\", mu, sigma, observed=observed_values)\n",
    "\n",
    "    m5_5_draft_trace = pm.sample()\n"
   ]
  },
  {
   "cell_type": "code",
   "execution_count": null,
   "id": "7bec1d31-d38d-409b-be98-02f928afd5fb",
   "metadata": {},
   "outputs": [],
   "source": [
    "xseq = [-2, 2]\n",
    "shared_N.set_value(np.array(xseq))\n",
    "with m5_5_draft:\n",
    "    m5_5_draft_prior_predictive = pm.sample_prior_predictive()"
   ]
  },
  {
   "cell_type": "markdown",
   "id": "0e7b062a-52be-4cc2-ab09-5b4fe58384a7",
   "metadata": {},
   "source": [
    "#### 5.35  \n",
    "前のエラーと同様にデータの形状が合わずエラーが出ます。  \n",
    "同じように修正しました。"
   ]
  },
  {
   "cell_type": "code",
   "execution_count": null,
   "id": "75f721f2-1a3a-4858-be46-7fabb15376fd",
   "metadata": {},
   "outputs": [],
   "source": [
    "xseq = np.array([-2, 2])\n",
    "shared_N.set_value(xseq)\n",
    "\n",
    "with pm.Model() as m5_5:\n",
    "    sigma = pm.Exponential(\"sigma\", 1)\n",
    "    bN = pm.Normal(\"bN\", 0, 0.5)\n",
    "    a = pm.Normal(\"a\", 0, 0.2)\n",
    "    mu = pm.Deterministic(\"mu\", a + bN * shared_N)\n",
    "\n",
    "    # ここでobservedの部分を適切な形状に更新\n",
    "    observed_values = dcc[\"K\"].values[:len(xseq)] \n",
    "    K = pm.Normal(\"K\", mu, sigma, observed=observed_values)\n",
    "\n",
    "    m5_5_trace = pm.sample()\n",
    "m5_5_data = az.extract_dataset(m5_5_trace)"
   ]
  }
 ],
 "metadata": {
  "kernelspec": {
   "display_name": "Python 3 (ipykernel)",
   "language": "python",
   "name": "python3"
  },
  "language_info": {
   "codemirror_mode": {
    "name": "ipython",
    "version": 3
   },
   "file_extension": ".py",
   "mimetype": "text/x-python",
   "name": "python",
   "nbconvert_exporter": "python",
   "pygments_lexer": "ipython3",
   "version": "3.9.18"
  }
 },
 "nbformat": 4,
 "nbformat_minor": 5
}
