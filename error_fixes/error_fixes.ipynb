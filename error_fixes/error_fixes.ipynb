{
 "cells": [
  {
   "cell_type": "markdown",
   "id": "da31b605-ed56-4425-9a50-aa8ac693da41",
   "metadata": {},
   "source": [
    "# エラーへの対処・修正済みコード"
   ]
  },
  {
   "cell_type": "markdown",
   "id": "1477264a-0018-40a6-854a-58e465bdc45f",
   "metadata": {},
   "source": [
    "『Statistical Rethinking A Bayesian Course with Examples in R and Stan 』は、  \n",
    "ベイズ統計学の基礎的な内容を実用例を交えて紹介している非常に優れた教科書です。\n",
    "\n",
    "教科書には分析で使用するRのコードが記載されていますが、  \n",
    "著者のRichard McElreath先生のwebサイト  \n",
    "\n",
    "https://xcelab.net/rm/statistical-rethinking/  \n",
    "\n",
    "で、 同じ内容を他の言語/パッケージで行うためのGitHubが紹介されています。  \n",
    "例えばpymcで再現したコードを公開しているリポジトリとして以下があります。  \n",
    "\n",
    "pymc (https://github.com/pymc-devs/pymc-resources/tree/main)  \n",
    "\n",
    "notebookの形式で教科書内のコードを(おそらくほぼ)すべて再現されています。  \n",
    "博愛に満ちた素晴らしい成果物なのですが、一部エラーが出るコードがあります。  \n",
    "\n",
    "このノートブックではエラーが出たコードの箇所を報告し、  修正できたところは修正済みのコードを記載しています。  "
   ]
  },
  {
   "cell_type": "markdown",
   "id": "735522f7-796e-4685-9ee1-ee768583eae0",
   "metadata": {},
   "source": [
    "## Chapter5 (Chp_05.ipynb)"
   ]
  },
  {
   "cell_type": "markdown",
   "id": "5146ea8f-56a8-4072-a4d0-bce11c1c2dcf",
   "metadata": {},
   "source": [
    "#### 5.33, 5.34"
   ]
  },
  {
   "cell_type": "markdown",
   "id": "9d0aaba5-b520-4f4a-b325-97822e7d8eba",
   "metadata": {},
   "source": [
    "元のjupyter notebookのコードでは以降のコードでエラーが生じます。  \n",
    "\n",
    "    shared_N = shared(dcc[\"N\"].values)\n",
    "    with pm.Model() as m5_5_draft:\n",
    "       sigma = pm.Exponential(\"sigma\", 1)\n",
    "       bN = pm.Normal(\"bN\", 0, 1)\n",
    "       a = pm.Normal(\"a\", 0, 1)\n",
    "       mu = pm.Deterministic(\"mu\", a + bN * shared_N)\n",
    "\n",
    "       K = pm.Normal(\"K\", mu, sigma, observed=dcc[\"K\"])\n",
    "\n",
    "       m5_5_draft_trace = pm.sample()\n",
    "\n",
    "    xseq = [-2, 2]\n",
    "    shared_N.set_value(np.array(xseq))\n",
    "    with m5_5_draft:\n",
    "       m5_5_draft_prior_predictive = pm.sample_prior_predictive()  \n",
    "       \n",
    "shared_NとKなどの形状が一致せずエラーが発生するようです。  \n",
    "元のRコードではパッケージの関数を使用しているためどのように処理しているかわりません。  \n",
    "よって以下ではxseqの形状に合わせてKの形状が変化するように修正しました。"
   ]
  },
  {
   "cell_type": "code",
   "execution_count": null,
   "id": "104010b8-925c-4373-afb5-7e6a9255c074",
   "metadata": {},
   "outputs": [],
   "source": [
    "xseq = np.array([-2, 2])\n",
    "shared_N.set_value(xseq)\n",
    "\n",
    "with pm.Model() as m5_5_draft:\n",
    "    sigma = pm.Exponential(\"sigma\", 1)\n",
    "    bN = pm.Normal(\"bN\", 0, 1)\n",
    "    a = pm.Normal(\"a\", 0, 1)\n",
    "    mu = pm.Deterministic(\"mu\", a + bN * shared_N)\n",
    "\n",
    "    # ここでobservedの部分を適切な形状に更新\n",
    "    observed_values = dcc[\"K\"].values[:len(xseq)] \n",
    "    K = pm.Normal(\"K\", mu, sigma, observed=observed_values)\n",
    "\n",
    "    m5_5_draft_trace = pm.sample()\n"
   ]
  },
  {
   "cell_type": "code",
   "execution_count": null,
   "id": "7bec1d31-d38d-409b-be98-02f928afd5fb",
   "metadata": {},
   "outputs": [],
   "source": [
    "xseq = [-2, 2]\n",
    "shared_N.set_value(np.array(xseq))\n",
    "with m5_5_draft:\n",
    "    m5_5_draft_prior_predictive = pm.sample_prior_predictive()"
   ]
  },
  {
   "cell_type": "markdown",
   "id": "0e7b062a-52be-4cc2-ab09-5b4fe58384a7",
   "metadata": {},
   "source": [
    "#### 5.35  \n",
    "前のエラーと同様にデータの形状が合わずエラーが出ます。  \n",
    "同じように修正しました。"
   ]
  },
  {
   "cell_type": "code",
   "execution_count": null,
   "id": "75f721f2-1a3a-4858-be46-7fabb15376fd",
   "metadata": {},
   "outputs": [],
   "source": [
    "xseq = np.array([-2, 2])\n",
    "shared_N.set_value(xseq)\n",
    "\n",
    "with pm.Model() as m5_5:\n",
    "    sigma = pm.Exponential(\"sigma\", 1)\n",
    "    bN = pm.Normal(\"bN\", 0, 0.5)\n",
    "    a = pm.Normal(\"a\", 0, 0.2)\n",
    "    mu = pm.Deterministic(\"mu\", a + bN * shared_N)\n",
    "\n",
    "    # ここでobservedの部分を適切な形状に更新\n",
    "    observed_values = dcc[\"K\"].values[:len(xseq)] \n",
    "    K = pm.Normal(\"K\", mu, sigma, observed=observed_values)\n",
    "\n",
    "    m5_5_trace = pm.sample()\n",
    "m5_5_data = az.extract_dataset(m5_5_trace)"
   ]
  },
  {
   "cell_type": "markdown",
   "id": "83ff9e1c-4850-4707-9c4f-cd7cd1480adc",
   "metadata": {},
   "source": [
    "## Chapter11 (Chp_11.ipynb)\n",
    "\n",
    "このchapter11では普通に実行するとエラーがかなり出ます。  \n",
    "なぜなら、古いパッケージのもとで書かれたコードと新しいパッケージのもとで書かれたコードが混在しているからです。  \n",
    "私はenvironment_v4.ymlの環境で実行しているので、environment.ymlを前提に書かれたコードは一部エラーが出ます。  \n",
    "そこでエラーの出るコードは、environment_v4.ymlの環境、  \n",
    "```\n",
    "Python implementation: CPython\n",
    "Python version       : 3.9.18\n",
    "IPython version      : 8.15.0\n",
    "\n",
    "numpy     : 1.25.2\n",
    "aesara    : 2.8.7\n",
    "pymc      : 4.3.0\n",
    "arviz     : 0.13.0\n",
    "scipy     : 1.11.2\n",
    "matplotlib: 3.7.1\n",
    "pandas    : 2.1.0\n",
    "\n",
    "Watermark: 2.4.3\n",
    "```\n",
    "で実行できるようにコードを書き換えています。"
   ]
  },
  {
   "cell_type": "markdown",
   "id": "2e546a1f-c19c-412a-a73c-88819ba717ed",
   "metadata": {},
   "source": [
    "### Code 11.16 and 11.17 \n",
    "以下のコードでエラーが出ます。\n",
    "```\n",
    "with m11_4:\n",
    "    pm.set_data({\"actor_id\": np.repeat(range(7), 4), \"treat_id\": list(range(4)) * 7})\n",
    "    ppd = pm.sample_posterior_predictive(trace_11_4, random_seed=RANDOM_SEED, var_names=[\"p\"])[\n",
    "        \"posterior_predictive\"\n",
    "    ][\"p\"]\n",
    "p_mu = np.array(ppd.mean([\"chain\", \"draw\"])).reshape((7, 4))\n",
    "```\n",
    "actor_idとtreat_idの型が間違っているようです。  \n",
    "そのため、actor_idとtreat_idを生成したコードまで遡り、以下のように修正しました。  \n",
    "以下のコードを実行した後に、コード Code 11.16 and 11.17を実行すると動きます。"
   ]
  },
  {
   "cell_type": "code",
   "execution_count": null,
   "id": "d86ed052-82b9-463f-95bd-3f9aa203a605",
   "metadata": {},
   "outputs": [],
   "source": [
    "with pm.Model() as m11_4:\n",
    "    a = pm.Normal(\"a\", 0.0, 1.5, shape=len(actors))\n",
    "    b = pm.Normal(\"b\", 0.0, 0.5, shape=len(treatments))\n",
    "\n",
    "    # Create shared variables using pm.MutableData()\n",
    "    actor_id = pm.Data(\"actor_id\", actor_idx, mutable=True)\n",
    "    treat_id = pm.Data(\"treat_id\", treat_idx, mutable=True)\n",
    "\n",
    "    p = pm.Deterministic(\"p\", pm.math.invlogit(a[actor_id] + b[treat_id]))\n",
    "\n",
    "    pulled_left = pm.Binomial(\"pulled_left\", 1, p, observed=d.pulled_left)\n",
    "    trace_11_4 = pm.sample(random_seed=RANDOM_SEED)"
   ]
  },
  {
   "cell_type": "markdown",
   "id": "c241ea22-22a9-4320-842d-e665276ae643",
   "metadata": {},
   "source": [
    "### Code 11.20\n",
    "以下のコードを実行するとm11_5が無いことでエラーがでます。  \n",
    "```\n",
    "with m11_4:\n",
    "    pm.set_data({\"actor_id\": actor_idx, \"treat_id\": treat_idx})\n",
    "    trace_11_4 = pm.sample(random_seed=RANDOM_SEED)\n",
    "\n",
    "az.compare({\"m11_4\": trace_11_4, \"m11_5\": trace_11_5})\n",
    "```\n",
    "そこで、m11_5を定義するコードを、古いバージョンのnotebookから取り戻して先に実行する必要があります。  \n",
    "古いバージョンのnotebookへのURL  \n",
    "https://github.com/pymc-devs/pymc-resources/blob/061ce81c277ac93725beba5bd850a62cd5e81713/Rethinking_2/Chp_11.ipynb  \n",
    "このnotebookのCode 11.19を先に実行します。"
   ]
  },
  {
   "cell_type": "code",
   "execution_count": null,
   "id": "3a7a922f-2e2f-4ae1-8429-703e698e3c34",
   "metadata": {},
   "outputs": [],
   "source": [
    "with pm.Model() as m11_5:\n",
    "    a = pm.Normal(\"a\", 0.0, 1.5, shape=len(actors))\n",
    "    bs = pm.Normal(\"bs\", 0.0, 0.5, shape=2)\n",
    "    bc = pm.Normal(\"bc\", 0.0, 0.5, shape=2)\n",
    "\n",
    "    p = pm.math.invlogit(a[actor_idx] + bs[side] + bc[cond])\n",
    "\n",
    "    pulled_left = pm.Binomial(\"pulled_left\", 1, p, observed=d.pulled_left)\n",
    "\n",
    "    trace_11_5 = pm.sample(random_seed=RANDOM_SEED)"
   ]
  }
 ],
 "metadata": {
  "kernelspec": {
   "display_name": "Python (stat-rethink2)",
   "language": "python",
   "name": "stat-rethink2-pymc_v4"
  },
  "language_info": {
   "codemirror_mode": {
    "name": "ipython",
    "version": 3
   },
   "file_extension": ".py",
   "mimetype": "text/x-python",
   "name": "python",
   "nbconvert_exporter": "python",
   "pygments_lexer": "ipython3",
   "version": "3.9.18"
  }
 },
 "nbformat": 4,
 "nbformat_minor": 5
}
