{
 "cells": [
  {
   "cell_type": "markdown",
   "id": "e28eb145-0ecb-4ec2-a9b7-ab98a3e28e3a",
   "metadata": {},
   "source": [
    "<div style=\"border-radius: 10px; border: #DEB887 solid; padding: 15px; background-color: #FFFAF0; font-size: 100%; text-align: left\">\n",
    "<h3 align=\"left\"><font color='#3498DB'>🦄 Chapter5 <font></h3>"
   ]
  },
  {
   "cell_type": "code",
   "execution_count": 1,
   "id": "981558c7-3582-4137-b7ef-ffeb738852ae",
   "metadata": {},
   "outputs": [],
   "source": [
    "import os\n",
    "import warnings\n",
    "\n",
    "import arviz as az\n",
    "import daft\n",
    "import matplotlib.pyplot as plt\n",
    "import numpy as np\n",
    "import pandas as pd\n",
    "import pymc as pm\n",
    "\n",
    "from aesara import shared\n",
    "from causalgraphicalmodels import CausalGraphicalModel\n",
    "from scipy import stats\n",
    "from scipy.interpolate import griddata\n",
    "\n",
    "warnings.simplefilter(action=\"ignore\", category=FutureWarning)"
   ]
  },
  {
   "cell_type": "code",
   "execution_count": 2,
   "id": "0b988d40-ae7f-4c51-9c7e-5e4da1df47cb",
   "metadata": {},
   "outputs": [],
   "source": [
    "%config Inline.figure_format = 'retina'\n",
    "az.style.use(\"arviz-darkgrid\")\n",
    "np.random.seed(0)"
   ]
  },
  {
   "cell_type": "code",
   "execution_count": 3,
   "id": "9afff9d3-c5ca-4439-b883-363ba0ad1d9c",
   "metadata": {},
   "outputs": [],
   "source": [
    "data = pd.read_csv( \"WaffleDivorce.csv\", delimiter=\";\")"
   ]
  },
  {
   "cell_type": "code",
   "execution_count": 4,
   "id": "7e06f763-5c13-415f-ab6d-c40ceff063c3",
   "metadata": {},
   "outputs": [
    {
     "data": {
      "text/html": [
       "<div>\n",
       "<style scoped>\n",
       "    .dataframe tbody tr th:only-of-type {\n",
       "        vertical-align: middle;\n",
       "    }\n",
       "\n",
       "    .dataframe tbody tr th {\n",
       "        vertical-align: top;\n",
       "    }\n",
       "\n",
       "    .dataframe thead th {\n",
       "        text-align: right;\n",
       "    }\n",
       "</style>\n",
       "<table border=\"1\" class=\"dataframe\">\n",
       "  <thead>\n",
       "    <tr style=\"text-align: right;\">\n",
       "      <th></th>\n",
       "      <th>Location</th>\n",
       "      <th>Loc</th>\n",
       "      <th>Population</th>\n",
       "      <th>MedianAgeMarriage</th>\n",
       "      <th>Marriage</th>\n",
       "      <th>Marriage SE</th>\n",
       "      <th>Divorce</th>\n",
       "      <th>Divorce SE</th>\n",
       "      <th>WaffleHouses</th>\n",
       "      <th>South</th>\n",
       "      <th>Slaves1860</th>\n",
       "      <th>Population1860</th>\n",
       "      <th>PropSlaves1860</th>\n",
       "    </tr>\n",
       "  </thead>\n",
       "  <tbody>\n",
       "    <tr>\n",
       "      <th>0</th>\n",
       "      <td>Alabama</td>\n",
       "      <td>AL</td>\n",
       "      <td>4.78</td>\n",
       "      <td>25.3</td>\n",
       "      <td>20.2</td>\n",
       "      <td>1.27</td>\n",
       "      <td>12.7</td>\n",
       "      <td>0.79</td>\n",
       "      <td>128</td>\n",
       "      <td>1</td>\n",
       "      <td>435080</td>\n",
       "      <td>964201</td>\n",
       "      <td>0.45</td>\n",
       "    </tr>\n",
       "    <tr>\n",
       "      <th>1</th>\n",
       "      <td>Alaska</td>\n",
       "      <td>AK</td>\n",
       "      <td>0.71</td>\n",
       "      <td>25.2</td>\n",
       "      <td>26.0</td>\n",
       "      <td>2.93</td>\n",
       "      <td>12.5</td>\n",
       "      <td>2.05</td>\n",
       "      <td>0</td>\n",
       "      <td>0</td>\n",
       "      <td>0</td>\n",
       "      <td>0</td>\n",
       "      <td>0.00</td>\n",
       "    </tr>\n",
       "    <tr>\n",
       "      <th>2</th>\n",
       "      <td>Arizona</td>\n",
       "      <td>AZ</td>\n",
       "      <td>6.33</td>\n",
       "      <td>25.8</td>\n",
       "      <td>20.3</td>\n",
       "      <td>0.98</td>\n",
       "      <td>10.8</td>\n",
       "      <td>0.74</td>\n",
       "      <td>18</td>\n",
       "      <td>0</td>\n",
       "      <td>0</td>\n",
       "      <td>0</td>\n",
       "      <td>0.00</td>\n",
       "    </tr>\n",
       "    <tr>\n",
       "      <th>3</th>\n",
       "      <td>Arkansas</td>\n",
       "      <td>AR</td>\n",
       "      <td>2.92</td>\n",
       "      <td>24.3</td>\n",
       "      <td>26.4</td>\n",
       "      <td>1.70</td>\n",
       "      <td>13.5</td>\n",
       "      <td>1.22</td>\n",
       "      <td>41</td>\n",
       "      <td>1</td>\n",
       "      <td>111115</td>\n",
       "      <td>435450</td>\n",
       "      <td>0.26</td>\n",
       "    </tr>\n",
       "    <tr>\n",
       "      <th>4</th>\n",
       "      <td>California</td>\n",
       "      <td>CA</td>\n",
       "      <td>37.25</td>\n",
       "      <td>26.8</td>\n",
       "      <td>19.1</td>\n",
       "      <td>0.39</td>\n",
       "      <td>8.0</td>\n",
       "      <td>0.24</td>\n",
       "      <td>0</td>\n",
       "      <td>0</td>\n",
       "      <td>0</td>\n",
       "      <td>379994</td>\n",
       "      <td>0.00</td>\n",
       "    </tr>\n",
       "  </tbody>\n",
       "</table>\n",
       "</div>"
      ],
      "text/plain": [
       "     Location Loc  Population  MedianAgeMarriage  Marriage  Marriage SE  \\\n",
       "0     Alabama  AL        4.78               25.3      20.2         1.27   \n",
       "1      Alaska  AK        0.71               25.2      26.0         2.93   \n",
       "2     Arizona  AZ        6.33               25.8      20.3         0.98   \n",
       "3    Arkansas  AR        2.92               24.3      26.4         1.70   \n",
       "4  California  CA       37.25               26.8      19.1         0.39   \n",
       "\n",
       "   Divorce  Divorce SE  WaffleHouses  South  Slaves1860  Population1860  \\\n",
       "0     12.7        0.79           128      1      435080          964201   \n",
       "1     12.5        2.05             0      0           0               0   \n",
       "2     10.8        0.74            18      0           0               0   \n",
       "3     13.5        1.22            41      1      111115          435450   \n",
       "4      8.0        0.24             0      0           0          379994   \n",
       "\n",
       "   PropSlaves1860  \n",
       "0            0.45  \n",
       "1            0.00  \n",
       "2            0.00  \n",
       "3            0.26  \n",
       "4            0.00  "
      ]
     },
     "execution_count": 4,
     "metadata": {},
     "output_type": "execute_result"
    }
   ],
   "source": [
    "data.head()"
   ]
  },
  {
   "cell_type": "code",
   "execution_count": 15,
   "id": "3bec871c-5d9d-44f4-8f74-e5c24cc74410",
   "metadata": {},
   "outputs": [],
   "source": [
    "def standardize(series):\n",
    "    \"\"\"pandas seriesを標準化する\"\"\"\n",
    "    std_series = (series - series.mean())/series.std()\n",
    "    return std_series"
   ]
  },
  {
   "cell_type": "code",
   "execution_count": null,
   "id": "048f8e51-dcfc-4c67-96ea-71a69fe26cf1",
   "metadata": {},
   "outputs": [],
   "source": []
  },
  {
   "cell_type": "code",
   "execution_count": 9,
   "id": "490d8ab9-8f76-42b1-a2e5-f5c26cd08640",
   "metadata": {},
   "outputs": [
    {
     "data": {
      "image/png": "[encoded data removed]",
      "text/plain": [
       "<Figure size 720x480 with 1 Axes>"
      ]
     },
     "metadata": {},
     "output_type": "display_data"
    }
   ],
   "source": [
    "#fig 5.1 欠損した平均\n",
    "fig, ax = plt.subplots()\n",
    "\n",
    "# 南部連邦への色の割り当て\n",
    "colors = {\"1\": \"blue\", \"0\": \"black\"}\n",
    "\n",
    "ax.scatter(\n",
    "    data[\"WaffleHouses\"] / data[\"Population\"],\n",
    "    data[\"Divorce\"],\n",
    "    lw=1,\n",
    "    color=(0,0,0,0),\n",
    "    edgecolor=data[\"South\"].apply(lambda x: colors[str(x)]),\n",
    ")\n",
    "\n",
    "ax.set_xlabel(\"Waffle Houses per million\")\n",
    "ax.set_ylabel(\"Divorce rate\")\n",
    "\n",
    "# 離婚率が12.6を超えているか、\n",
    "# 住民あたりのワッフルハウスが30を超えているstatesだけを取り出す\n",
    "selection = data[(data[\"Divorce\"]>12.6) | (data[\"WaffleHouses\"]/ data[\"Population\"])>30]\n",
    "\n",
    "# 各点のラベル\n",
    "for state, div, ratio in zip(\n",
    "    selection[\"Loc\"],\n",
    "    selection[\"WaffleHouses\"] / selection[\"Population\"],\n",
    "    selection[\"Divorce\"],\n",
    "):\n",
    "    ax.annotate(f\"{state}\", xy=(div, ratio), textcoords=\"offset points\", xytext=(10, -5))\n",
    "    \n"
   ]
  },
  {
   "cell_type": "code",
   "execution_count": 13,
   "id": "6848178c-75e8-487b-a0a2-c6423a6a7cb2",
   "metadata": {},
   "outputs": [
    {
     "data": {
      "text/plain": [
       "Text(0.5, 0, 'Median age marriage')"
      ]
     },
     "execution_count": 13,
     "metadata": {},
     "output_type": "execute_result"
    },
    {
     "data": {
      "image/png": "[encoded data removed]",
      "text/plain": [
       "<Figure size 1000x400 with 2 Axes>"
      ]
     },
     "metadata": {},
     "output_type": "display_data"
    }
   ],
   "source": [
    "# fig 5.2 欠損した平均と信用区間\n",
    "fig, ax = plt.subplots(1, 2, figsize=(10, 4))\n",
    "\n",
    "ax[0].scatter(data[\"Marriage\"], data[\"Divorce\"], lw=1, color=(0, 0, 0, 0),\n",
    "              edgecolor=\"b\")\n",
    "ax[0].set_ylabel(\"Divorce rate\")\n",
    "ax[0].set_xlabel(\"Marriage rate\")\n",
    "\n",
    "ax[1].scatter(data[\"MedianAgeMarriage\"], data[\"Divorce\"], lw=1, \n",
    "              color=(0, 0, 0, 0), edgecolor=\"b\")\n",
    "ax[1].set_ylabel(\"Divorce rate\")\n",
    "ax[1].set_xlabel(\"Median age marriage\")"
   ]
  },
  {
   "cell_type": "markdown",
   "id": "13b3bc0b-5ceb-43ba-8dd0-bbecd46f947f",
   "metadata": {},
   "source": [
    "<div style=\"border-radius: 10px; border: #DEB887 solid; padding: 15px; background-color: #FFFAF0; font-size: 100%; text-align: left\">\n",
    "<h3 align=\"left\"><font color='#3498DB'>🦄 Notes: 疑似相関</font></h3>\n",
    "\n",
    "* 左はmarriage rate (元のnotebookはラベルの間違い)"
   ]
  },
  {
   "cell_type": "code",
   "execution_count": 16,
   "id": "4ba2a1fd-3e4d-404a-9521-86ffeb275185",
   "metadata": {},
   "outputs": [],
   "source": [
    "data[\"Divorce_std\"] = standardize(data[\"Divorce\"])\n",
    "data[\"Marriage_std\"] = standardize(data[\"Marriage\"])\n",
    "data[\"MedianAgeMarriage_std\"] = standardize(data[\"MedianAgeMarriage\"])"
   ]
  },
  {
   "cell_type": "code",
   "execution_count": 17,
   "id": "f8b6b912-e47c-4d95-96d8-179a08535957",
   "metadata": {},
   "outputs": [
    {
     "data": {
      "text/plain": [
       "1.2436303013880823"
      ]
     },
     "execution_count": 17,
     "metadata": {},
     "output_type": "execute_result"
    }
   ],
   "source": [
    "data[\"MedianAgeMarriage\"].std()"
   ]
  },
  {
   "cell_type": "code",
   "execution_count": 19,
   "id": "41948bb2-8c48-4a82-bcc6-7b4447ff49b1",
   "metadata": {},
   "outputs": [
    {
     "name": "stderr",
     "output_type": "stream",
     "text": [
      "Sampling: [a, bA, divorce_rate_std, sigma]\n",
      "Auto-assigning NUTS sampler...\n",
      "Initializing NUTS using jitter+adapt_diag...\n",
      "Multiprocess sampling (4 chains in 4 jobs)\n",
      "NUTS: [a, bA, sigma]\n"
     ]
    },
    {
     "data": {
      "text/html": [
       "\n",
       "<style>\n",
       "    /* Turns off some styling */\n",
       "    progress {\n",
       "        /* gets rid of default border in Firefox and Opera. */\n",
       "        border: none;\n",
       "        /* Needs to be in here for Safari polyfill so background images work as expected. */\n",
       "        background-size: auto;\n",
       "    }\n",
       "    progress:not([value]), progress:not([value])::-webkit-progress-bar {\n",
       "        background: repeating-linear-gradient(45deg, #7e7e7e, #7e7e7e 10px, #5c5c5c 10px, #5c5c5c 20px);\n",
       "    }\n",
       "    .progress-bar-interrupted, .progress-bar-interrupted::-webkit-progress-bar {\n",
       "        background: #F44336;\n",
       "    }\n",
       "</style>\n"
      ],
      "text/plain": [
       "<IPython.core.display.HTML object>"
      ]
     },
     "metadata": {},
     "output_type": "display_data"
    },
    {
     "data": {
      "text/html": [
       "\n",
       "    <div>\n",
       "      <progress value='8000' class='' max='8000' style='width:300px; height:20px; vertical-align: middle;'></progress>\n",
       "      100.00% [8000/8000 00:10&lt;00:00 Sampling 4 chains, 0 divergences]\n",
       "    </div>\n",
       "    "
      ],
      "text/plain": [
       "<IPython.core.display.HTML object>"
      ]
     },
     "metadata": {},
     "output_type": "display_data"
    },
    {
     "name": "stderr",
     "output_type": "stream",
     "text": [
      "Sampling 4 chains for 1_000 tune and 1_000 draw iterations (4_000 + 4_000 draws total) took 41 seconds.\n"
     ]
    }
   ],
   "source": [
    "with pm.Model () as m_5_1:\n",
    "    a = pm.Normal(\"a\", 0, 0.2)\n",
    "    bA = pm.Normal(\"bA\", 0, 0.5)\n",
    "    sigma = pm.Exponential(\"sigma\", 1)\n",
    "    mu = pm.Deterministic(\"mu\", a + bA * data[\"MedianAgeMarriage_std\"].values)\n",
    "\n",
    "    divorce_rate_std = pm.Normal(\n",
    "        \"divorce_rate_std\", mu=mu, sigma=sigma, observed=data[\"Divorce_std\"].values\n",
    "    )\n",
    "    prior_samples = pm.sample_prior_predictive()\n",
    "    m_5_1_trace = pm.sample()"
   ]
  },
  {
   "cell_type": "markdown",
   "id": "5b2262d5-9666-474e-999c-f9b7b77c9040",
   "metadata": {},
   "source": [
    "<div style=\"border-radius: 10px; border: #DEB887 solid; padding: 15px; background-color: #FFFAF0; font-size: 100%; text-align: left\">\n",
    "<h3 align=\"left\"><font color='#3498DB'>🦄 Notes: 設定</font></h3>\n",
    "\n",
    "* sigmaの事前分布がなぜexp(\"sigma\", 1)なのか。"
   ]
  },
  {
   "cell_type": "code",
   "execution_count": null,
   "id": "9cbfbd0a-d0ca-41e7-bb8b-fc83e28aaf30",
   "metadata": {},
   "outputs": [],
   "source": []
  }
 ],
 "metadata": {
  "kernelspec": {
   "display_name": "Python (stat-rethink2)",
   "language": "python",
   "name": "stat-rethink2-pymc_v4"
  },
  "language_info": {
   "codemirror_mode": {
    "name": "ipython",
    "version": 3
   },
   "file_extension": ".py",
   "mimetype": "text/x-python",
   "name": "python",
   "nbconvert_exporter": "python",
   "pygments_lexer": "ipython3",
   "version": "3.9.18"
  }
 },
 "nbformat": 4,
 "nbformat_minor": 5
}
